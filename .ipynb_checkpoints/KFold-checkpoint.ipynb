{
 "cells": [
  {
   "cell_type": "code",
   "execution_count": 1,
   "id": "c66076d8",
   "metadata": {},
   "outputs": [],
   "source": [
    "import warnings\n",
    "warnings.filterwarnings('ignore')\n",
    "class K_Fold():\n",
    "    def __init__(self, X, y, k):\n",
    "        self.X = X\n",
    "        self.y = y\n",
    "        self.k = k\n",
    "        \n",
    "    def k_fold_test(self):\n",
    "        #Split up data into folds\n",
    "        listX = np.array_split(self.X, self.k, axis=0)\n",
    "        listY = np.array_split(self.y, self.k)\n",
    "\n",
    "        #Set up Model\n",
    "        model = LinearRegression()\n",
    "        \n",
    "        #get average accuracy\n",
    "        total = 0\n",
    "        for i in range(self.k):\n",
    "            #Partition matricies to use\n",
    "            training_X = np.vstack(np.delete(listX, i, 0))\n",
    "            training_Y = np.vstack(np.delete(listY, i, 0))\n",
    "            \n",
    "            model.fit(training_X, np.ravel(training_Y))\n",
    "            y_pred = model.predict(listX[i])\n",
    "            error = mean_squared_error(y_pred, listY[i])\n",
    "            total += error\n",
    "\n",
    "        return total/self.k"
   ]
  },
  {
   "cell_type": "code",
   "execution_count": null,
   "id": "9cf0c99a",
   "metadata": {},
   "outputs": [],
   "source": []
  }
 ],
 "metadata": {
  "kernelspec": {
   "display_name": "Python 3",
   "language": "python",
   "name": "python3"
  },
  "language_info": {
   "codemirror_mode": {
    "name": "ipython",
    "version": 3
   },
   "file_extension": ".py",
   "mimetype": "text/x-python",
   "name": "python",
   "nbconvert_exporter": "python",
   "pygments_lexer": "ipython3",
   "version": "3.8.8"
  }
 },
 "nbformat": 4,
 "nbformat_minor": 5
}
