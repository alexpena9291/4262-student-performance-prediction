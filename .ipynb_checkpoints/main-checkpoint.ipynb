{
 "cells": [
  {
   "cell_type": "markdown",
   "id": "97478b8d",
   "metadata": {},
   "source": [
    "## Final Project - Student Predictive Model"
   ]
  },
  {
   "cell_type": "markdown",
   "id": "7ca55208",
   "metadata": {},
   "source": [
    "#### Imports"
   ]
  },
  {
   "cell_type": "code",
   "execution_count": 1,
   "id": "605845f0",
   "metadata": {},
   "outputs": [],
   "source": [
    "import csv\n",
    "import matplotlib.pyplot as plt\n",
    "from matplotlib.colors import ListedColormap        \n",
    "import numpy as np\n",
    "import scipy as sp\n",
    "import random\n",
    "import pandas as pd\n",
    "from math import sqrt\n",
    "from sklearn import datasets\n",
    "from sklearn.svm import SVC \n",
    "from sklearn.linear_model import LinearRegression\n",
    "from sklearn.model_selection import train_test_split\n",
    "from sklearn.utils import shuffle\n",
    "import seaborn as sb\n",
    "from sklearn.metrics import mean_squared_error\n",
    "from sklearn.model_selection import KFold"
   ]
  },
  {
   "cell_type": "markdown",
   "id": "1e243eee",
   "metadata": {},
   "source": [
    "#### Import Data from CSV File"
   ]
  },
  {
   "cell_type": "code",
   "execution_count": 2,
   "id": "bec8d52e",
   "metadata": {},
   "outputs": [
    {
     "data": {
      "text/html": [
       "<div>\n",
       "<style scoped>\n",
       "    .dataframe tbody tr th:only-of-type {\n",
       "        vertical-align: middle;\n",
       "    }\n",
       "\n",
       "    .dataframe tbody tr th {\n",
       "        vertical-align: top;\n",
       "    }\n",
       "\n",
       "    .dataframe thead th {\n",
       "        text-align: right;\n",
       "    }\n",
       "</style>\n",
       "<table border=\"1\" class=\"dataframe\">\n",
       "  <thead>\n",
       "    <tr style=\"text-align: right;\">\n",
       "      <th></th>\n",
       "      <th>gender</th>\n",
       "      <th>race/ethnicity</th>\n",
       "      <th>parental level of education</th>\n",
       "      <th>lunch</th>\n",
       "      <th>test preparation course</th>\n",
       "      <th>math score</th>\n",
       "      <th>reading score</th>\n",
       "      <th>writing score</th>\n",
       "    </tr>\n",
       "  </thead>\n",
       "  <tbody>\n",
       "    <tr>\n",
       "      <th>0</th>\n",
       "      <td>female</td>\n",
       "      <td>group B</td>\n",
       "      <td>bachelor's degree</td>\n",
       "      <td>standard</td>\n",
       "      <td>none</td>\n",
       "      <td>72</td>\n",
       "      <td>72</td>\n",
       "      <td>74</td>\n",
       "    </tr>\n",
       "    <tr>\n",
       "      <th>1</th>\n",
       "      <td>female</td>\n",
       "      <td>group C</td>\n",
       "      <td>some college</td>\n",
       "      <td>standard</td>\n",
       "      <td>completed</td>\n",
       "      <td>69</td>\n",
       "      <td>90</td>\n",
       "      <td>88</td>\n",
       "    </tr>\n",
       "    <tr>\n",
       "      <th>2</th>\n",
       "      <td>female</td>\n",
       "      <td>group B</td>\n",
       "      <td>master's degree</td>\n",
       "      <td>standard</td>\n",
       "      <td>none</td>\n",
       "      <td>90</td>\n",
       "      <td>95</td>\n",
       "      <td>93</td>\n",
       "    </tr>\n",
       "    <tr>\n",
       "      <th>3</th>\n",
       "      <td>male</td>\n",
       "      <td>group A</td>\n",
       "      <td>associate's degree</td>\n",
       "      <td>free/reduced</td>\n",
       "      <td>none</td>\n",
       "      <td>47</td>\n",
       "      <td>57</td>\n",
       "      <td>44</td>\n",
       "    </tr>\n",
       "    <tr>\n",
       "      <th>4</th>\n",
       "      <td>male</td>\n",
       "      <td>group C</td>\n",
       "      <td>some college</td>\n",
       "      <td>standard</td>\n",
       "      <td>none</td>\n",
       "      <td>76</td>\n",
       "      <td>78</td>\n",
       "      <td>75</td>\n",
       "    </tr>\n",
       "  </tbody>\n",
       "</table>\n",
       "</div>"
      ],
      "text/plain": [
       "   gender race/ethnicity parental level of education         lunch  \\\n",
       "0  female        group B           bachelor's degree      standard   \n",
       "1  female        group C                some college      standard   \n",
       "2  female        group B             master's degree      standard   \n",
       "3    male        group A          associate's degree  free/reduced   \n",
       "4    male        group C                some college      standard   \n",
       "\n",
       "  test preparation course  math score  reading score  writing score  \n",
       "0                    none          72             72             74  \n",
       "1               completed          69             90             88  \n",
       "2                    none          90             95             93  \n",
       "3                    none          47             57             44  \n",
       "4                    none          76             78             75  "
      ]
     },
     "execution_count": 2,
     "metadata": {},
     "output_type": "execute_result"
    }
   ],
   "source": [
    "#Reading in Data\n",
    "pre_processed_data = pd.read_csv('StudentsPerformance.csv', delimiter=',')\n",
    "pre_processed_data.head(5)"
   ]
  },
  {
   "cell_type": "markdown",
   "id": "2734467a",
   "metadata": {},
   "source": [
    "#### Global Constants"
   ]
  },
  {
   "cell_type": "code",
   "execution_count": 3,
   "id": "707c27ca",
   "metadata": {},
   "outputs": [],
   "source": [
    "PARAMETER_ORDER = ['gender', 'race_ethnicity', 'parent_education', 'lunch', 'test_prep', 'math_score', 'reading_score', 'writing_score']"
   ]
  },
  {
   "cell_type": "markdown",
   "id": "5edc7a3a",
   "metadata": {},
   "source": [
    "#### Helper Functions"
   ]
  },
  {
   "cell_type": "code",
   "execution_count": 4,
   "id": "e26febb3",
   "metadata": {},
   "outputs": [],
   "source": [
    "def simple_plot(name, x_label, x, y_label, y):\n",
    "    plt.scatter(x,y)\n",
    "    plt.title(name)\n",
    "    plt.xlabel(x_label)\n",
    "    plt.ylabel(y_label)\n",
    "    plt.show()\n",
    "    \n",
    "# Categorical to Numerical - Requires correct order - FIX  THIS\n",
    "def convert_to_integer(data):\n",
    "    return np.array([\n",
    "        1,\n",
    "        G_integer_map[data['gender']],\n",
    "        RE_integer_map[data['race_ethnicity']],\n",
    "        PE_integer_map[data['parent_education']],\n",
    "        L_integer_map[data['lunch']],\n",
    "        TP_integer_map[data['test_prep']]\n",
    "    ]).reshape(1,-1)\n",
    "\n",
    "def convert_to_onehot(data):\n",
    "    preProcess = [\n",
    "        1,\n",
    "        G_onehot_map[data['gender']],\n",
    "        RE_onehot_map[data['race_ethnicity']],\n",
    "        PE_onehot_map[data['parent_education']],\n",
    "        L_onehot_map[data['lunch']],\n",
    "        TP_onehot_map[data['test_prep']]\n",
    "    ]\n",
    "    postProcess = np.concatenate(([np.array(arr) for arr in preProcess]), axis=None)\n",
    "    return postProcess.reshape(1,-1)\n",
    "\n",
    "def convert_to_binary(data):\n",
    "    preProcess = [\n",
    "        1,\n",
    "        G_binary_map[data['gender']],\n",
    "        RE_binary_map[data['race_ethnicity']],\n",
    "        PE_binary_map[data['parent_education']],\n",
    "        L_binary_map[data['lunch']],\n",
    "        TP_binary_map[data['test_prep']]\n",
    "    ]\n",
    "    postProcess = np.concatenate(([np.array(arr) for arr in preProcess]), axis=None)\n",
    "    return postProcess.reshape(1,-1)\n"
   ]
  },
  {
   "cell_type": "markdown",
   "id": "8c2ce6ec",
   "metadata": {},
   "source": [
    "#### Category Mapping (Integer Mapping)"
   ]
  },
  {
   "cell_type": "code",
   "execution_count": 5,
   "id": "8f5f1ace",
   "metadata": {},
   "outputs": [],
   "source": [
    "# Gender Mapping\n",
    "G_integer_map = {\n",
    "    'female' : 1,\n",
    "    'male' : 0\n",
    "}\n",
    "\n",
    "# Race/Ethnicity Mapping\n",
    "RE_integer_map = {\n",
    "    'group A' : 0,\n",
    "    'group B' : 1,\n",
    "    'group C' : 2,\n",
    "    'group D' : 3,\n",
    "    'group E' : 4\n",
    "}\n",
    "\n",
    "# Parental Education Mapping\n",
    "PE_integer_map = {\n",
    "    'some college' :        0,\n",
    "    'associate\\'s degree' : 1,\n",
    "    'high school' :         2,\n",
    "    'some high school' :    3,\n",
    "    'bachelor\\'s degree' :  4,\n",
    "    'master\\'s degree' :    5\n",
    "}\n",
    "\n",
    "# Lunch Mapping\n",
    "L_integer_map = {\n",
    "    'standard' : 0,\n",
    "    'free/reduced' : 1\n",
    "}\n",
    "\n",
    "# Test Prep Mapping\n",
    "\n",
    "TP_integer_map = {\n",
    "    'none' : 0,\n",
    "    'completed' : 1\n",
    "}"
   ]
  },
  {
   "cell_type": "markdown",
   "id": "236c34d2",
   "metadata": {},
   "source": [
    "#### One Hot Encoding"
   ]
  },
  {
   "cell_type": "code",
   "execution_count": 6,
   "id": "871090ee",
   "metadata": {},
   "outputs": [],
   "source": [
    "# Gender Mapping\n",
    "G_onehot_map = {\n",
    "    'female' : [1, 0],\n",
    "    'male' : [0, 1]\n",
    "}\n",
    "\n",
    "# Race/Ethnicity Mapping\n",
    "RE_onehot_map = {\n",
    "    'group A' : [1, 0, 0, 0, 0],\n",
    "    'group B' : [0, 1, 0, 0, 0],\n",
    "    'group C' : [0, 0, 1, 0, 0],\n",
    "    'group D' : [0, 0, 0, 1, 0],\n",
    "    'group E' : [0, 0, 0, 0, 1]\n",
    "}\n",
    "\n",
    "# Parental Education Mapping\n",
    "PE_onehot_map = {\n",
    "    'some college' :        [1, 0, 0, 0, 0, 0],\n",
    "    'associate\\'s degree' : [0, 1, 0, 0, 0, 0],\n",
    "    'high school' :         [0, 0, 1, 0, 0, 0],\n",
    "    'some high school' :    [0, 0, 0, 1, 0, 0],\n",
    "    'bachelor\\'s degree' :  [0, 0, 0, 0, 1, 0],\n",
    "    'master\\'s degree' :    [0, 0, 0, 0, 0, 1]\n",
    "}\n",
    "\n",
    "# Lunch Mapping\n",
    "L_onehot_map = {\n",
    "    'standard' : [1, 0],\n",
    "    'free/reduced' : [0, 1]\n",
    "}\n",
    "\n",
    "# Test Prep Mapping\n",
    "\n",
    "TP_onehot_map = {\n",
    "    'none' : [1, 0],\n",
    "    'completed' : [0, 1]\n",
    "}"
   ]
  },
  {
   "cell_type": "markdown",
   "id": "70c3d0df",
   "metadata": {},
   "source": [
    "#### Binary Encoding"
   ]
  },
  {
   "cell_type": "code",
   "execution_count": 7,
   "id": "d078de76",
   "metadata": {},
   "outputs": [],
   "source": [
    "# Gender Mapping\n",
    "G_binary_map = {\n",
    "    'female' : [0],\n",
    "    'male' : [1]\n",
    "}\n",
    "\n",
    "# Race/Ethnicity Mapping\n",
    "RE_binary_map = {\n",
    "    'group A' : [0, 0, 0],\n",
    "    'group B' : [0, 0, 1],\n",
    "    'group C' : [0, 1, 0],\n",
    "    'group D' : [0, 1, 1],\n",
    "    'group E' : [1, 0, 0]\n",
    "}\n",
    "\n",
    "# Parental Education Mapping\n",
    "PE_binary_map = {\n",
    "    'some college' :        [0, 0, 0],\n",
    "    'associate\\'s degree' : [0, 0, 1],\n",
    "    'high school' :         [0, 1, 0],\n",
    "    'some high school' :    [0, 1, 1],\n",
    "    'bachelor\\'s degree' :  [1, 0, 0],\n",
    "    'master\\'s degree' :    [1, 0, 1]\n",
    "}\n",
    "\n",
    "# Lunch Mapping\n",
    "L_binary_map = {\n",
    "    'standard' : [0],\n",
    "    'free/reduced' : [1]\n",
    "}\n",
    "\n",
    "# Test Prep Mapping\n",
    "\n",
    "TP_binary_map = {\n",
    "    'none' : [0],\n",
    "    'completed' : [1]\n",
    "}"
   ]
  },
  {
   "cell_type": "markdown",
   "id": "54043a7d",
   "metadata": {},
   "source": [
    "#### Visualization of Data"
   ]
  },
  {
   "cell_type": "code",
   "execution_count": 8,
   "id": "49d6271b",
   "metadata": {
    "scrolled": true
   },
   "outputs": [
    {
     "name": "stdout",
     "output_type": "stream",
     "text": [
      "INTEGER\n",
      "[68.29569006]\n",
      "[52.58197253]\n",
      "ONEHOT\n",
      "[72.125]\n",
      "[55.375]\n",
      "BINARY\n",
      "[72.61428369]\n",
      "[55.01559059]\n"
     ]
    }
   ],
   "source": [
    "#Pre-Processed Individual Data\n",
    "math = np.array(pre_processed_data[\"math score\"])\n",
    "reading = np.array(pre_processed_data[\"reading score\"])\n",
    "writing = np.array(pre_processed_data['writing score'])\n",
    "gender = np.array(pre_processed_data['gender'])\n",
    "race_ethnicity = np.array(pre_processed_data['race/ethnicity'])\n",
    "parent_education = np.array(pre_processed_data['parental level of education'])\n",
    "lunch = np.array(pre_processed_data['lunch'])\n",
    "test_prep = np.array(pre_processed_data['test preparation course'])\n",
    "\n",
    "# Mapped Individual Data\n",
    "\n",
    "mapped_gender = np.array([G_integer_map[value] for value in gender])\n",
    "mapped_race_ethnicity = np.array([RE_integer_map[value] for value in race_ethnicity])\n",
    "mapped_parent_education = np.array([PE_integer_map[value] for value in parent_education])\n",
    "mapped_lunch = np.array([L_integer_map[value] for value in lunch])\n",
    "mapped_test_prep = np.array([TP_integer_map[value] for value in test_prep])\n",
    "\n",
    "# Processed \n",
    "average_score = (math + reading + writing) / 3\n",
    "intersect = np.ones(len(average_score))\n",
    "\n",
    "# MAPPED DATA MATRICIES\n",
    "\n",
    "N = len(average_score)\n",
    "\n",
    "#Integer Mapped\n",
    "integer_mapped_data_matrix = np.column_stack((intersect, mapped_gender, \n",
    "                               mapped_race_ethnicity, \n",
    "                               mapped_parent_education, \n",
    "                               mapped_lunch, \n",
    "                               mapped_test_prep))\n",
    "\n",
    "#One Hot Encoded\n",
    "onehot_mapped_data_matrix = np.vstack(([convert_to_onehot({'gender':gender[i],\n",
    "                                                          'race_ethnicity':race_ethnicity[i],\n",
    "                                                          'parent_education':parent_education[i],\n",
    "                                                          'lunch':lunch[i],\n",
    "                                                          'test_prep':test_prep[i]}) for i in range(N)]))\n",
    "\n",
    "#Binary Encoded\n",
    "binary_mapped_data_matrix = np.vstack(([convert_to_binary({'gender':gender[i],\n",
    "                                                          'race_ethnicity':race_ethnicity[i],\n",
    "                                                          'parent_education':parent_education[i],\n",
    "                                                          'lunch':lunch[i],\n",
    "                                                          'test_prep':test_prep[i]}) for i in range(N)]))\n",
    "\n",
    "integer_reg = LinearRegression().fit(integer_mapped_data_matrix, average_score)\n",
    "onehot_reg = LinearRegression().fit(onehot_mapped_data_matrix, average_score)\n",
    "binary_reg = LinearRegression().fit(binary_mapped_data_matrix, average_score)\n",
    "\n",
    "dict1 = {'gender':'female', \n",
    "            'race_ethnicity':'group B', \n",
    "            'parent_education':'bachelor\\'s degree', \n",
    "            'lunch':'standard', \n",
    "            'test_prep':'none'}\n",
    "\n",
    "dict2 = {'gender':'male', \n",
    "            'race_ethnicity':'group A', \n",
    "            'parent_education':'associate\\'s degree', \n",
    "            'lunch':'free/reduced', \n",
    "            'test_prep':'none'}\n",
    "\n",
    "integer_converted1 = convert_to_integer(dict1)\n",
    "onehot_converted1 = convert_to_onehot(dict1)\n",
    "binary_converted1 = convert_to_binary(dict1)\n",
    "\n",
    "integer_converted_2 = convert_to_integer(dict2)\n",
    "onehot_converted2 = convert_to_onehot(dict2)\n",
    "binary_converted2 = convert_to_binary(dict2)\n",
    "\n",
    "print('INTEGER')\n",
    "print(integer_reg.predict(integer_converted1))\n",
    "print(integer_reg.predict(integer_converted_2))\n",
    "\n",
    "print('ONEHOT')\n",
    "print(onehot_reg.predict(onehot_converted1))\n",
    "print(onehot_reg.predict(onehot_converted2))\n",
    "\n",
    "print('BINARY')\n",
    "print(binary_reg.predict(binary_converted1))\n",
    "print(binary_reg.predict(binary_converted2))"
   ]
  },
  {
   "cell_type": "markdown",
   "id": "fc5ce0a8",
   "metadata": {},
   "source": [
    "#### Visualizing a 2-Dimensional Plot With Classes (Classification)"
   ]
  },
  {
   "cell_type": "code",
   "execution_count": 9,
   "id": "53a39884",
   "metadata": {},
   "outputs": [
    {
     "data": {
      "image/png": "[encoded data removed]",
      "text/plain": [
       "<Figure size 432x288 with 1 Axes>"
      ]
     },
     "metadata": {
      "needs_background": "light"
     },
     "output_type": "display_data"
    }
   ],
   "source": [
    "GENDER_COL = 0\n",
    "RACE_COL = 1\n",
    "PARENTAL_EDU_COL = 2\n",
    "LUNCH_COL = 3\n",
    "TEST_PREP_COL = 4\n",
    "MATH_SCORE_COL = 5\n",
    "READING_SCORE_COL = 6\n",
    "WRITING_SCORE_COL = 7\n",
    "\n",
    "def class_plot(class_name, class1, class2, feature1, feature2):\n",
    "    plt.scatter(pre_processed_data[feature1][(class_name == class1) | (class_name == class1)],\n",
    "            pre_processed_data[feature2][(class_name == class1) | (class_name == class1)],\n",
    "           color='red',\n",
    "           label=class1.capitalize() + \" Scores\")\n",
    "    plt.scatter(pre_processed_data[feature1][class_name == class2],\n",
    "            pre_processed_data[feature2][class_name == class2],\n",
    "           color='blue',\n",
    "           label=class2.capitalize() + \" Scores\")\n",
    "\n",
    "    plt.title(\"Classification Plot based on \" + class_name.name.capitalize())\n",
    "    plt.xlabel(feature1.capitalize())\n",
    "    plt.ylabel(feature2.capitalize())\n",
    "    plt.legend()\n",
    "    \n",
    "class_plot(pre_processed_data.gender, 'male', 'female', 'writing score', 'reading score')"
   ]
  },
  {
   "cell_type": "markdown",
   "id": "346a0fd1",
   "metadata": {},
   "source": [
    "#### Comparing Integer vs. Binary vs. One-Hot Encoding"
   ]
  },
  {
   "cell_type": "code",
   "execution_count": 10,
   "id": "7530a8a6",
   "metadata": {},
   "outputs": [],
   "source": [
    "import warnings\n",
    "warnings.filterwarnings('ignore')\n",
    "class K_Fold():\n",
    "    def __init__(self, X, y, k):\n",
    "        self.X = X\n",
    "        self.y = y\n",
    "        self.k = k\n",
    "        \n",
    "    def k_fold_test(self):\n",
    "        #Split up data into folds\n",
    "        listX = np.array_split(self.X, self.k, axis=0)\n",
    "        listY = np.array_split(self.y, self.k)\n",
    "\n",
    "        #Set up Model\n",
    "        model = LinearRegression()\n",
    "        \n",
    "        #get average accuracy\n",
    "        total = 0\n",
    "        for i in range(self.k):\n",
    "            #Partition matricies to use\n",
    "            training_X = np.vstack(np.delete(listX, i, 0))\n",
    "            training_Y = np.vstack(np.delete(listY, i, 0))\n",
    "            \n",
    "            model.fit(training_X, np.ravel(training_Y))\n",
    "            y_pred = model.predict(listX[i])\n",
    "            error = mean_squared_error(y_pred, listY[i])\n",
    "            total += error\n",
    "\n",
    "        return total/self.k"
   ]
  },
  {
   "cell_type": "code",
   "execution_count": 11,
   "id": "6feca38f",
   "metadata": {},
   "outputs": [
    {
     "name": "stdout",
     "output_type": "stream",
     "text": [
      "Performing k-fold cross validation for each encoding method... \n",
      "\n",
      "Integer encoding yields an error of 165.70255\n",
      "One-hot encoding yields an error of 158.86272\n",
      "Binary encoding yields an error of 158.64078\n"
     ]
    }
   ],
   "source": [
    "# Split into test and train data and shuffle (80/20 split)\n",
    "int_x_shuffled, int_y_shuffled = shuffle(integer_mapped_data_matrix, average_score)\n",
    "binary_x_shuffled, binary_y_shuffled = shuffle(binary_mapped_data_matrix, average_score)\n",
    "OH_x_shuffled, OH_y_shuffled = shuffle(onehot_mapped_data_matrix, average_score)\n",
    "\n",
    "x_int_train, x_int_test, y_int_train, y_int_test = train_test_split(int_x_shuffled, int_y_shuffled, test_size = 0.2, random_state = 37)\n",
    "x_binary_train, x_binary_test, y_binary_train, y_binary_test = train_test_split(binary_x_shuffled, binary_y_shuffled, test_size = 0.2, random_state = 37)\n",
    "x_OH_train, x_OH_test, y_OH_train, y_OH_test = train_test_split(OH_x_shuffled, OH_y_shuffled, test_size = 0.2, random_state = 37)\n",
    "\n",
    "int_reg = LinearRegression().fit(x_int_train, y_int_train)\n",
    "OH_reg = LinearRegression().fit(x_OH_train, y_OH_train)\n",
    "binary_reg = LinearRegression().fit(x_binary_train, y_binary_train)\n",
    "\n",
    "# Create K-Fold Classes for each Encoding Method\n",
    "kf_int = K_Fold(int_x_shuffled, int_y_shuffled, k=5)\n",
    "kf_OH = K_Fold(OH_x_shuffled, OH_y_shuffled, k=5)\n",
    "kf_binary = K_Fold(binary_x_shuffled, binary_y_shuffled, k=5)\n",
    "\n",
    "int_error = round(kf_int.k_fold_test(), 5)\n",
    "OH_error = round(kf_OH.k_fold_test(), 5)\n",
    "binary_error = round(kf_binary.k_fold_test(), 5)\n",
    "\n",
    "print('Performing k-fold cross validation for each encoding method... \\n')\n",
    "print('Integer encoding yields an error of ' + str(int_error))\n",
    "print('One-hot encoding yields an error of ' + str(OH_error))\n",
    "print('Binary encoding yields an error of ' + str(binary_error))"
   ]
  },
  {
   "cell_type": "markdown",
   "id": "a9ebf589",
   "metadata": {},
   "source": [
    "#### Feature Reduction"
   ]
  },
  {
   "cell_type": "code",
   "execution_count": 12,
   "id": "de968db9",
   "metadata": {
    "scrolled": true
   },
   "outputs": [],
   "source": [
    "# Feature reduction function\n",
    "def reduce_features(original_x_data, y_data, orig_index_dict):\n",
    "    lowest_index, lowest_error = 0, 0\n",
    "    num_rows, num_cols = original_x_data.shape\n",
    "\n",
    "    for n in range(1,num_cols):\n",
    "        reduced_data_matrix = np.delete(original_x_data, (n), axis=1)\n",
    "        x_red_train, x_red_test, y_red_train, y_red_test = train_test_split(reduced_data_matrix, y_data, test_size = 0.2, random_state = 37)\n",
    "        error = K_Fold(reduced_data_matrix, int_y_shuffled, k = 5).k_fold_test()\n",
    "        if n is 1:\n",
    "            lowest_index = 1\n",
    "            lowest_error = error\n",
    "        else:\n",
    "            if error < lowest_error:\n",
    "                lowest_index = n\n",
    "                lowest_error = error\n",
    "    new_x_data = np.delete(original_x_data, (lowest_index), axis=1)\n",
    "    \n",
    "    new_index_dict = {key:val for key, val in orig_index_dict.items() if val != lowest_index}\n",
    "    \n",
    "    # Reorder dictionary values from 1-n consecutive\n",
    "    counter = 1\n",
    "    for key, value in new_index_dict.items():\n",
    "        new_index_dict[key] = counter\n",
    "        counter += 1\n",
    "        \n",
    "    return lowest_index, lowest_error, new_x_data, new_index_dict"
   ]
  },
  {
   "cell_type": "code",
   "execution_count": 13,
   "id": "6c18e9a1",
   "metadata": {},
   "outputs": [
    {
     "name": "stdout",
     "output_type": "stream",
     "text": [
      "The order of feature importance is as follows\n",
      "1) FREE LUNCH\n",
      "2) TEST PREP\n",
      "3) RACE\n",
      "4) GENDER\n",
      "5) PARENTAL EDUCATION\n"
     ]
    }
   ],
   "source": [
    "orig_dict = {\n",
    "    'GENDER' : 1,\n",
    "    'RACE' : 2,\n",
    "    'PARENTAL EDUCATION' : 3,\n",
    "    'FREE LUNCH' : 4,\n",
    "    'TEST PREP' : 5}\n",
    "\n",
    "x_data = int_x_shuffled\n",
    "y_data = int_y_shuffled\n",
    "\n",
    "lowest_index1, lowest_error1, new_data_matrix1, index_dict1 = reduce_features(x_data, y_data, orig_dict)\n",
    "feature_removed1 = list(orig_dict.keys())[list(orig_dict.values()).index(lowest_index1)]\n",
    "\n",
    "lowest_index2, lowest_error2, new_data_matrix2, index_dict2 = reduce_features(new_data_matrix1, y_data, index_dict1)\n",
    "feature_removed2 = list(index_dict1.keys())[list(index_dict1.values()).index(lowest_index2)]\n",
    "\n",
    "lowest_index3, lowest_error3, new_data_matrix3, index_dict3 = reduce_features(new_data_matrix2, y_data, index_dict2)\n",
    "feature_removed3 = list(index_dict2.keys())[list(index_dict2.values()).index(lowest_index3)]\n",
    "\n",
    "lowest_index4, lowest_error4, new_data_matrix4, index_dict4 = reduce_features(new_data_matrix3, y_data, index_dict3)\n",
    "feature_removed4 = list(index_dict3.keys())[list(index_dict3.values()).index(lowest_index4)]\n",
    "\n",
    "# Data matrix now only contains a column of 1's\n",
    "lowest_index5, lowest_error5, new_data_matrix5, index_dict5 = reduce_features(new_data_matrix4, y_data, index_dict4)\n",
    "feature_removed5 = list(index_dict4.keys())[list(index_dict4.values()).index(lowest_index5)]\n",
    "\n",
    "print('The order of feature importance is as follows')\n",
    "print('1) ' + feature_removed5)\n",
    "print('2) ' + feature_removed4)\n",
    "print('3) ' + feature_removed3)\n",
    "print('4) ' + feature_removed2)\n",
    "print('5) ' + feature_removed1)"
   ]
  },
  {
   "cell_type": "code",
   "execution_count": 15,
   "id": "566b3816",
   "metadata": {},
   "outputs": [
    {
     "name": "stdout",
     "output_type": "stream",
     "text": [
      "Error with all features included: 165.70255\n",
      "\n",
      "Features included: FREE LUNCH, TEST PREP, RACE, GENDER\n",
      "Error: 165.71518\n",
      "\n",
      "Features included: FREE LUNCH, TEST PREP, RACE\n",
      "Error: 169.15104\n",
      "\n",
      "Features included: FREE LUNCH, TEST PREP\n",
      "Error: 174.27348\n",
      "\n",
      "Features included: FREE LUNCH\n",
      "Error: 187.49683\n",
      "\n",
      "Features included: None\n",
      "Error: 204.09099\n"
     ]
    },
    {
     "data": {
      "text/plain": [
       "Text(0.5, 1.0, 'Error as we reduce features')"
      ]
     },
     "execution_count": 15,
     "metadata": {},
     "output_type": "execute_result"
    },
    {
     "data": {
      "image/png": "[encoded data removed]",
      "text/plain": [
       "<Figure size 432x288 with 1 Axes>"
      ]
     },
     "metadata": {
      "needs_background": "light"
     },
     "output_type": "display_data"
    }
   ],
   "source": [
    "# Visualizing how error changes as we reduce features\n",
    "from textwrap import wrap\n",
    "\n",
    "print('Error with all features included: ' + str(int_error))\n",
    "print()\n",
    "print('Features included: ' + feature_removed5 + ', ' + feature_removed4 + \n",
    "      ', ' + feature_removed3 + ', ' + feature_removed2)\n",
    "print('Error: ' + str(round(lowest_error1, 5)))\n",
    "print()\n",
    "print('Features included: ' + feature_removed5 + ', ' + feature_removed4 + ', ' + feature_removed3)\n",
    "print('Error: ' + str(round(lowest_error2, 5)))\n",
    "print()\n",
    "print('Features included: ' + feature_removed5 + ', ' + feature_removed4)\n",
    "print('Error: ' + str(round(lowest_error3, 5)))\n",
    "print()\n",
    "print('Features included: ' + feature_removed5)\n",
    "print('Error: ' + str(round(lowest_error4, 5)))\n",
    "print()\n",
    "print('Features included: None')\n",
    "print('Error: ' + str(round(lowest_error5, 5)))\n",
    "\n",
    "n_1 = str('4-D: ' + feature_removed5 + ', ' + feature_removed4 + ', ' + feature_removed3 + ', and ' + feature_removed2)\n",
    "n_2 = str('3-D: ' + feature_removed5 + ', ' + feature_removed4 + ', and ' + feature_removed3)\n",
    "n_3 = str('2_D: ' + feature_removed5 + ', and ' + feature_removed4)\n",
    "n_4 = str('1-D: ' + feature_removed5)\n",
    "n_5 = 'Column Matrix of 1\\'s'\n",
    "\n",
    "error_plot_y = [int_error, lowest_error1, lowest_error2, lowest_error3, lowest_error4, lowest_error5]\n",
    "error_plot_x = ['All 5 Features', n_1, n_2, n_3, n_4, n_5]\n",
    "error_plot_x = [ '\\n'.join(wrap(label, 8)) for label in error_plot_x]\n",
    "\n",
    "plt.bar(error_plot_x, error_plot_y)\n",
    "plt.ylabel('Error')\n",
    "plt.xlabel('Features included in Model')\n",
    "plt.title('Error as we reduce features')"
   ]
  },
  {
   "cell_type": "code",
   "execution_count": null,
   "id": "56621bbb",
   "metadata": {},
   "outputs": [],
   "source": []
  }
 ],
 "metadata": {
  "kernelspec": {
   "display_name": "Python 3",
   "language": "python",
   "name": "python3"
  },
  "language_info": {
   "codemirror_mode": {
    "name": "ipython",
    "version": 3
   },
   "file_extension": ".py",
   "mimetype": "text/x-python",
   "name": "python",
   "nbconvert_exporter": "python",
   "pygments_lexer": "ipython3",
   "version": "3.8.8"
  }
 },
 "nbformat": 4,
 "nbformat_minor": 5
}
