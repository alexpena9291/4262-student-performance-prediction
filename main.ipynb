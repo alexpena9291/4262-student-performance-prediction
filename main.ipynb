{
 "cells": [
  {
   "cell_type": "markdown",
   "id": "c52c921d",
   "metadata": {},
   "source": [
    "## Final Project - Student Predictive Model"
   ]
  },
  {
   "cell_type": "markdown",
   "id": "f4e6d243",
   "metadata": {},
   "source": [
    "#### Imports"
   ]
  },
  {
   "cell_type": "code",
   "execution_count": 32,
   "id": "3e6345c5",
   "metadata": {},
   "outputs": [],
   "source": [
    "import csv\n",
    "import matplotlib.pyplot as plt\n",
    "from matplotlib.colors import ListedColormap\n",
    "import numpy as np\n",
    "import scipy as sp\n",
    "import random\n",
    "import pandas as pd\n",
    "from math import sqrt\n",
    "from sklearn import datasets\n",
    "from sklearn.svm import SVC \n",
    "from sklearn.linear_model import LinearRegression\n",
    "import seaborn as sb"
   ]
  },
  {
   "cell_type": "code",
   "execution_count": 9,
   "id": "27dda66d",
   "metadata": {},
   "outputs": [
    {
     "data": {
      "text/html": [
       "<div>\n",
       "<style scoped>\n",
       "    .dataframe tbody tr th:only-of-type {\n",
       "        vertical-align: middle;\n",
       "    }\n",
       "\n",
       "    .dataframe tbody tr th {\n",
       "        vertical-align: top;\n",
       "    }\n",
       "\n",
       "    .dataframe thead th {\n",
       "        text-align: right;\n",
       "    }\n",
       "</style>\n",
       "<table border=\"1\" class=\"dataframe\">\n",
       "  <thead>\n",
       "    <tr style=\"text-align: right;\">\n",
       "      <th></th>\n",
       "      <th>gender</th>\n",
       "      <th>race/ethnicity</th>\n",
       "      <th>parental level of education</th>\n",
       "      <th>lunch</th>\n",
       "      <th>test preparation course</th>\n",
       "      <th>math score</th>\n",
       "      <th>reading score</th>\n",
       "      <th>writing score</th>\n",
       "    </tr>\n",
       "  </thead>\n",
       "  <tbody>\n",
       "    <tr>\n",
       "      <th>0</th>\n",
       "      <td>female</td>\n",
       "      <td>group B</td>\n",
       "      <td>bachelor's degree</td>\n",
       "      <td>standard</td>\n",
       "      <td>none</td>\n",
       "      <td>72</td>\n",
       "      <td>72</td>\n",
       "      <td>74</td>\n",
       "    </tr>\n",
       "    <tr>\n",
       "      <th>1</th>\n",
       "      <td>female</td>\n",
       "      <td>group C</td>\n",
       "      <td>some college</td>\n",
       "      <td>standard</td>\n",
       "      <td>completed</td>\n",
       "      <td>69</td>\n",
       "      <td>90</td>\n",
       "      <td>88</td>\n",
       "    </tr>\n",
       "    <tr>\n",
       "      <th>2</th>\n",
       "      <td>female</td>\n",
       "      <td>group B</td>\n",
       "      <td>master's degree</td>\n",
       "      <td>standard</td>\n",
       "      <td>none</td>\n",
       "      <td>90</td>\n",
       "      <td>95</td>\n",
       "      <td>93</td>\n",
       "    </tr>\n",
       "    <tr>\n",
       "      <th>3</th>\n",
       "      <td>male</td>\n",
       "      <td>group A</td>\n",
       "      <td>associate's degree</td>\n",
       "      <td>free/reduced</td>\n",
       "      <td>none</td>\n",
       "      <td>47</td>\n",
       "      <td>57</td>\n",
       "      <td>44</td>\n",
       "    </tr>\n",
       "    <tr>\n",
       "      <th>4</th>\n",
       "      <td>male</td>\n",
       "      <td>group C</td>\n",
       "      <td>some college</td>\n",
       "      <td>standard</td>\n",
       "      <td>none</td>\n",
       "      <td>76</td>\n",
       "      <td>78</td>\n",
       "      <td>75</td>\n",
       "    </tr>\n",
       "  </tbody>\n",
       "</table>\n",
       "</div>"
      ],
      "text/plain": [
       "   gender race/ethnicity parental level of education         lunch  \\\n",
       "0  female        group B           bachelor's degree      standard   \n",
       "1  female        group C                some college      standard   \n",
       "2  female        group B             master's degree      standard   \n",
       "3    male        group A          associate's degree  free/reduced   \n",
       "4    male        group C                some college      standard   \n",
       "\n",
       "  test preparation course  math score  reading score  writing score  \n",
       "0                    none          72             72             74  \n",
       "1               completed          69             90             88  \n",
       "2                    none          90             95             93  \n",
       "3                    none          47             57             44  \n",
       "4                    none          76             78             75  "
      ]
     },
     "execution_count": 9,
     "metadata": {},
     "output_type": "execute_result"
    }
   ],
   "source": [
    "#Reading in Data\n",
    "pre_processed_data = pd.read_csv('StudentsPerformance.csv', delimiter=',')\n",
    "pre_processed_data.head(5)"
   ]
  },
  {
   "cell_type": "markdown",
   "id": "b1e212f2",
   "metadata": {},
   "source": [
    "#### Helper Functions"
   ]
  },
  {
   "cell_type": "code",
   "execution_count": 38,
   "id": "a1c5f414",
   "metadata": {},
   "outputs": [],
   "source": [
    "def simple_plot(name, x_lable, x,y_lable, y):\n",
    "    plt.scatter(x,y)\n",
    "    plt.title(name)\n",
    "    plt.xlabel(x_lable)\n",
    "    plt.ylabel(y_lable)\n",
    "    plt.show()\n",
    "    \n",
    "# Categorical to Numerical - Requires correct order - FIX  THIS\n",
    "def convert_to_numerical(arr):\n",
    "    return [\n",
    "        1,\n",
    "        G_map[arr[0]],\n",
    "        RE_map[arr[1]],\n",
    "        PE_map[arr[2]],\n",
    "        L_map[arr[3]],\n",
    "        TP_map[arr[4]]\n",
    "    ]\n",
    "    "
   ]
  },
  {
   "cell_type": "markdown",
   "id": "dacf60d5",
   "metadata": {},
   "source": [
    "#### Category Mapping"
   ]
  },
  {
   "cell_type": "code",
   "execution_count": 30,
   "id": "75a08637",
   "metadata": {},
   "outputs": [],
   "source": [
    "# Gender Mapping\n",
    "G_map = {\n",
    "    'female' : 1,\n",
    "    'male' : 0\n",
    "}\n",
    "\n",
    "# Race/Ethnicity Mapping\n",
    "RE_map = {\n",
    "    'group A' : 0,\n",
    "    'group B' : 1,\n",
    "    'group C' : 2,\n",
    "    'group D' : 3,\n",
    "    'group E' : 4\n",
    "}\n",
    "\n",
    "# Parental Education Mapping\n",
    "PE_map = {\n",
    "    'some college' :        0,\n",
    "    'associate\\'s degree' : 1,\n",
    "    'high school' :         2,\n",
    "    'some high school' :    3,\n",
    "    'bachelor\\'s degree' :  4,\n",
    "    'master\\'s degree' :    5\n",
    "}\n",
    "\n",
    "# Lunch Mapping\n",
    "L_map = {\n",
    "    'standard' : 0,\n",
    "    'free/reduced' : 1\n",
    "}\n",
    "\n",
    "# Test Prep Mapping\n",
    "\n",
    "TP_map = {\n",
    "    'none' : 0,\n",
    "    'completed' : 1\n",
    "}"
   ]
  },
  {
   "cell_type": "markdown",
   "id": "df67e9d3",
   "metadata": {},
   "source": [
    "#### Visualization of Data"
   ]
  },
  {
   "cell_type": "code",
   "execution_count": 45,
   "id": "9ce5ef3b",
   "metadata": {},
   "outputs": [
    {
     "name": "stdout",
     "output_type": "stream",
     "text": [
      "[[1. 1. 1. 4. 0. 0.]\n",
      " [1. 1. 2. 0. 0. 1.]\n",
      " [1. 1. 1. 5. 0. 0.]\n",
      " ...\n",
      " [1. 1. 2. 2. 1. 1.]\n",
      " [1. 1. 3. 0. 0. 1.]\n",
      " [1. 1. 3. 0. 1. 0.]]\n",
      "[1, 1, 1, 4, 1, 0]\n",
      "[59.64825551]\n",
      "[52.58197253]\n"
     ]
    }
   ],
   "source": [
    "#Visualizing Data\n",
    "\n",
    "#Pre-Processed Individual Data\n",
    "math = np.array(pre_processed_data[\"math score\"])\n",
    "reading = np.array(pre_processed_data[\"reading score\"])\n",
    "writing = np.array(pre_processed_data['writing score'])\n",
    "gender = np.array(pre_processed_data['gender'])\n",
    "race_ethnicity = np.array(pre_processed_data['race/ethnicity'])\n",
    "parent_education = np.array(pre_processed_data['parental level of education'])\n",
    "lunch = np.array(pre_processed_data['lunch'])\n",
    "test_prep = np.array(pre_processed_data['test preparation course'])\n",
    "\n",
    "# Mapped Individual Data\n",
    "\n",
    "mapped_gender = np.array([G_map[value] for value in gender])\n",
    "mapped_race_ethnicity = np.array([RE_map[value] for value in race_ethnicity])\n",
    "mapped_parent_education = np.array([PE_map[value] for value in parent_education])\n",
    "mapped_lunch = np.array([L_map[value] for value in lunch])\n",
    "mapped_test_prep = np.array([TP_map[value] for value in test_prep])\n",
    "\n",
    "# Processed \n",
    "average_score = (math + reading + writing) / 3\n",
    "intersect = np.ones(len(average_score))\n",
    "\n",
    "# Mapped Data Matrix\n",
    "mapped_data_matrix = np.column_stack((intersect, mapped_gender, \n",
    "                               mapped_race_ethnicity, \n",
    "                               mapped_parent_education, \n",
    "                               mapped_lunch, \n",
    "                               mapped_test_prep))\n",
    "\n",
    "\n",
    "\n",
    "print(mapped_data_matrix)\n",
    "reg = LinearRegression().fit(mapped_data_matrix, average_score)\n",
    "converted1 = convert_to_numerical(['female', 'group B', 'bachelor\\'s degree', 'free/reduced', 'none'])\n",
    "print(converted1)\n",
    "print(reg.predict(np.array([converted1])))\n",
    "\n",
    "converted2 = convert_to_numerical(['male', 'group A', 'associate\\'s degree', 'free/reduced', 'none'])\n",
    "print(reg.predict(np.array([converted2])))\n"
   ]
  },
  {
   "cell_type": "code",
   "execution_count": null,
   "id": "d95daed0",
   "metadata": {},
   "outputs": [],
   "source": []
  }
 ],
 "metadata": {
  "kernelspec": {
   "display_name": "Python 3",
   "language": "python",
   "name": "python3"
  },
  "language_info": {
   "codemirror_mode": {
    "name": "ipython",
    "version": 3
   },
   "file_extension": ".py",
   "mimetype": "text/x-python",
   "name": "python",
   "nbconvert_exporter": "python",
   "pygments_lexer": "ipython3",
   "version": "3.8.8"
  }
 },
 "nbformat": 4,
 "nbformat_minor": 5
}
