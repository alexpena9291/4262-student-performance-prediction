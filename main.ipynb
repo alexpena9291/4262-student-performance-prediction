{
 "cells": [
  {
   "cell_type": "markdown",
   "metadata": {},
   "source": [
    "## Final Project - Student Predictive Model"
   ]
  },
  {
   "cell_type": "markdown",
   "metadata": {},
   "source": [
    "#### Imports"
   ]
  },
  {
   "cell_type": "code",
   "execution_count": 10,
   "metadata": {},
   "outputs": [],
   "source": [
    "import csv\n",
    "import matplotlib.pyplot as plt\n",
    "from matplotlib.colors import ListedColormap        \n",
    "import numpy as np\n",
    "import scipy as sp\n",
    "import random\n",
    "import pandas as pd\n",
    "from math import sqrt\n",
    "from sklearn import datasets\n",
    "from sklearn.svm import SVC \n",
    "from sklearn.linear_model import LinearRegression\n",
    "import seaborn as sb"
   ]
  },
  {
   "cell_type": "markdown",
   "metadata": {},
   "source": [
    "#### Import Data from CSV File"
   ]
  },
  {
   "cell_type": "code",
   "execution_count": 11,
   "metadata": {},
   "outputs": [
    {
     "data": {
      "text/html": [
       "<div>\n",
       "<style scoped>\n",
       "    .dataframe tbody tr th:only-of-type {\n",
       "        vertical-align: middle;\n",
       "    }\n",
       "\n",
       "    .dataframe tbody tr th {\n",
       "        vertical-align: top;\n",
       "    }\n",
       "\n",
       "    .dataframe thead th {\n",
       "        text-align: right;\n",
       "    }\n",
       "</style>\n",
       "<table border=\"1\" class=\"dataframe\">\n",
       "  <thead>\n",
       "    <tr style=\"text-align: right;\">\n",
       "      <th></th>\n",
       "      <th>gender</th>\n",
       "      <th>race/ethnicity</th>\n",
       "      <th>parental level of education</th>\n",
       "      <th>lunch</th>\n",
       "      <th>test preparation course</th>\n",
       "      <th>math score</th>\n",
       "      <th>reading score</th>\n",
       "      <th>writing score</th>\n",
       "    </tr>\n",
       "  </thead>\n",
       "  <tbody>\n",
       "    <tr>\n",
       "      <th>0</th>\n",
       "      <td>female</td>\n",
       "      <td>group B</td>\n",
       "      <td>bachelor's degree</td>\n",
       "      <td>standard</td>\n",
       "      <td>none</td>\n",
       "      <td>72</td>\n",
       "      <td>72</td>\n",
       "      <td>74</td>\n",
       "    </tr>\n",
       "    <tr>\n",
       "      <th>1</th>\n",
       "      <td>female</td>\n",
       "      <td>group C</td>\n",
       "      <td>some college</td>\n",
       "      <td>standard</td>\n",
       "      <td>completed</td>\n",
       "      <td>69</td>\n",
       "      <td>90</td>\n",
       "      <td>88</td>\n",
       "    </tr>\n",
       "    <tr>\n",
       "      <th>2</th>\n",
       "      <td>female</td>\n",
       "      <td>group B</td>\n",
       "      <td>master's degree</td>\n",
       "      <td>standard</td>\n",
       "      <td>none</td>\n",
       "      <td>90</td>\n",
       "      <td>95</td>\n",
       "      <td>93</td>\n",
       "    </tr>\n",
       "    <tr>\n",
       "      <th>3</th>\n",
       "      <td>male</td>\n",
       "      <td>group A</td>\n",
       "      <td>associate's degree</td>\n",
       "      <td>free/reduced</td>\n",
       "      <td>none</td>\n",
       "      <td>47</td>\n",
       "      <td>57</td>\n",
       "      <td>44</td>\n",
       "    </tr>\n",
       "    <tr>\n",
       "      <th>4</th>\n",
       "      <td>male</td>\n",
       "      <td>group C</td>\n",
       "      <td>some college</td>\n",
       "      <td>standard</td>\n",
       "      <td>none</td>\n",
       "      <td>76</td>\n",
       "      <td>78</td>\n",
       "      <td>75</td>\n",
       "    </tr>\n",
       "  </tbody>\n",
       "</table>\n",
       "</div>"
      ],
      "text/plain": [
       "   gender race/ethnicity parental level of education         lunch  \\\n",
       "0  female        group B           bachelor's degree      standard   \n",
       "1  female        group C                some college      standard   \n",
       "2  female        group B             master's degree      standard   \n",
       "3    male        group A          associate's degree  free/reduced   \n",
       "4    male        group C                some college      standard   \n",
       "\n",
       "  test preparation course  math score  reading score  writing score  \n",
       "0                    none          72             72             74  \n",
       "1               completed          69             90             88  \n",
       "2                    none          90             95             93  \n",
       "3                    none          47             57             44  \n",
       "4                    none          76             78             75  "
      ]
     },
     "execution_count": 11,
     "metadata": {},
     "output_type": "execute_result"
    }
   ],
   "source": [
    "#Reading in Data\n",
    "pre_processed_data = pd.read_csv('StudentsPerformance.csv', delimiter=',')\n",
    "pre_processed_data.head(5)"
   ]
  },
  {
   "cell_type": "markdown",
   "metadata": {},
   "source": [
    "#### Global Constants"
   ]
  },
  {
   "cell_type": "code",
   "execution_count": 1,
   "metadata": {},
   "outputs": [],
   "source": [
    "PARAMETER_ORDER = ['gender', 'race_ethnicity', 'parent_education', 'lunch', 'test_prep', 'math_score', 'reading_score', 'writing_score']"
   ]
  },
  {
   "cell_type": "markdown",
   "metadata": {},
   "source": [
    "#### Helper Functions"
   ]
  },
  {
   "cell_type": "code",
   "execution_count": 22,
   "metadata": {},
   "outputs": [],
   "source": [
    "def simple_plot(name, x_lable, x,y_lable, y):\n",
    "    plt.scatter(x,y)\n",
    "    plt.title(name)\n",
    "    plt.xlabel(x_lable)\n",
    "    plt.ylabel(y_lable)\n",
    "    plt.show()\n",
    "    \n",
    "# Categorical to Numerical - Requires correct order - FIX  THIS\n",
    "def convert_to_numerical(data):\n",
    "    return [\n",
    "        1,\n",
    "        G_map[data['gender']],\n",
    "        RE_map[data['race_ethnicity']],\n",
    "        PE_map[data['parent_education']],\n",
    "        L_map[data['lunch']],\n",
    "        TP_map[data['test_prep']]\n",
    "    ]\n"
   ]
  },
  {
   "cell_type": "markdown",
   "metadata": {},
   "source": [
    "#### Category Mapping (Integer Mapping)"
   ]
  },
  {
   "cell_type": "code",
   "execution_count": 23,
   "metadata": {},
   "outputs": [],
   "source": [
    "# Gender Mapping\n",
    "G_integer_map = {\n",
    "    'female' : 1,\n",
    "    'male' : 0\n",
    "}\n",
    "\n",
    "# Race/Ethnicity Mapping\n",
    "RE_integer_map = {\n",
    "    'group A' : 0,\n",
    "    'group B' : 1,\n",
    "    'group C' : 2,\n",
    "    'group D' : 3,\n",
    "    'group E' : 4\n",
    "}\n",
    "\n",
    "# Parental Education Mapping\n",
    "PE_integer_map = {\n",
    "    'some college' :        0,\n",
    "    'associate\\'s degree' : 1,\n",
    "    'high school' :         2,\n",
    "    'some high school' :    3,\n",
    "    'bachelor\\'s degree' :  4,\n",
    "    'master\\'s degree' :    5\n",
    "}\n",
    "\n",
    "# Lunch Mapping\n",
    "L_integer_map = {\n",
    "    'standard' : 0,\n",
    "    'free/reduced' : 1\n",
    "}\n",
    "\n",
    "# Test Prep Mapping\n",
    "\n",
    "TP_integer_map = {\n",
    "    'none' : 0,\n",
    "    'completed' : 1\n",
    "}"
   ]
  },
  {
   "cell_type": "markdown",
   "metadata": {},
   "source": [
    "#### One Hot Encoding"
   ]
  },
  {
   "cell_type": "code",
   "execution_count": 2,
   "metadata": {},
   "outputs": [],
   "source": [
    "# Gender Mapping\n",
    "G_onehot_map = {\n",
    "    'female' : [1, 0],\n",
    "    'male' : [0, 1]\n",
    "}\n",
    "\n",
    "# Race/Ethnicity Mapping\n",
    "RE_onehot_map = {\n",
    "    'group A' : [1, 0, 0, 0, 0],\n",
    "    'group B' : [0, 1, 0, 0, 0],\n",
    "    'group C' : [0, 0, 1, 0, 0],\n",
    "    'group D' : [0, 0, 0, 1, 0],\n",
    "    'group E' : [0, 0, 0, 0, 1]\n",
    "}\n",
    "\n",
    "# Parental Education Mapping\n",
    "PE_onehot_map = {\n",
    "    'some college' :        [1, 0, 0, 0, 0, 0],\n",
    "    'associate\\'s degree' : [0, 1, 0, 0, 0, 0],\n",
    "    'high school' :         [0, 0, 1, 0, 0, 0],\n",
    "    'some high school' :    [0, 0, 0, 1, 0, 0],\n",
    "    'bachelor\\'s degree' :  [0, 0, 0, 0, 1, 0],\n",
    "    'master\\'s degree' :    [0, 0, 0, 0, 0, 1]\n",
    "}\n",
    "\n",
    "# Lunch Mapping\n",
    "L_onehot_map = {\n",
    "    'standard' : [1, 0],\n",
    "    'free/reduced' : [0, 1]\n",
    "}\n",
    "\n",
    "# Test Prep Mapping\n",
    "\n",
    "TP_onehot_map = {\n",
    "    'none' : [1, 0],\n",
    "    'completed' : [0, 1]\n",
    "}"
   ]
  },
  {
   "cell_type": "markdown",
   "metadata": {},
   "source": [
    "#### Binary Encoding"
   ]
  },
  {
   "cell_type": "code",
   "execution_count": 3,
   "metadata": {},
   "outputs": [],
   "source": [
    "# Gender Mapping\n",
    "G_binary_map = {\n",
    "    'female' : [0],\n",
    "    'male' : [1]\n",
    "}\n",
    "\n",
    "# Race/Ethnicity Mapping\n",
    "RE_binary_map = {\n",
    "    'group A' : [0, 0, 0],\n",
    "    'group B' : [0, 0, 1],\n",
    "    'group C' : [0, 1, 0],\n",
    "    'group D' : [0, 1, 1],\n",
    "    'group E' : [1, 0, 0]\n",
    "}\n",
    "\n",
    "# Parental Education Mapping\n",
    "PE_binary_map = {\n",
    "    'some college' :        [0, 0, 0],\n",
    "    'associate\\'s degree' : [0, 0, 1],\n",
    "    'high school' :         [0, 1, 0],\n",
    "    'some high school' :    [0, 1, 1],\n",
    "    'bachelor\\'s degree' :  [1, 0, 0],\n",
    "    'master\\'s degree' :    [1, 0, 1]\n",
    "}\n",
    "\n",
    "# Lunch Mapping\n",
    "L_binary_map = {\n",
    "    'standard' : [0],\n",
    "    'free/reduced' : [1]\n",
    "}\n",
    "\n",
    "# Test Prep Mapping\n",
    "\n",
    "TP_binary_map = {\n",
    "    'none' : [0],\n",
    "    'completed' : [1]\n",
    "}"
   ]
  },
  {
   "cell_type": "markdown",
   "metadata": {},
   "source": [
    "#### Visualization of Data"
   ]
  },
  {
   "cell_type": "code",
   "execution_count": 24,
   "metadata": {},
   "outputs": [
    {
     "name": "stdout",
     "output_type": "stream",
     "text": [
      "[[1. 1. 1. 4. 0. 0.]\n",
      " [1. 1. 2. 0. 0. 1.]\n",
      " [1. 1. 1. 5. 0. 0.]\n",
      " ...\n",
      " [1. 1. 2. 2. 1. 1.]\n",
      " [1. 1. 3. 0. 0. 1.]\n",
      " [1. 1. 3. 0. 1. 0.]]\n",
      "[1, 1, 1, 4, 1, 0]\n",
      "[59.64825551]\n",
      "[52.58197253]\n"
     ]
    }
   ],
   "source": [
    "#Visualizing Data\n",
    "\n",
    "#Pre-Processed Individual Data\n",
    "math = np.array(pre_processed_data[\"math score\"])\n",
    "reading = np.array(pre_processed_data[\"reading score\"])\n",
    "writing = np.array(pre_processed_data['writing score'])\n",
    "gender = np.array(pre_processed_data['gender'])\n",
    "race_ethnicity = np.array(pre_processed_data['race/ethnicity'])\n",
    "parent_education = np.array(pre_processed_data['parental level of education'])\n",
    "lunch = np.array(pre_processed_data['lunch'])\n",
    "test_prep = np.array(pre_processed_data['test preparation course'])\n",
    "\n",
    "# Mapped Individual Data\n",
    "\n",
    "mapped_gender = np.array([G_map[value] for value in gender])\n",
    "mapped_race_ethnicity = np.array([RE_map[value] for value in race_ethnicity])\n",
    "mapped_parent_education = np.array([PE_map[value] for value in parent_education])\n",
    "mapped_lunch = np.array([L_map[value] for value in lunch])\n",
    "mapped_test_prep = np.array([TP_map[value] for value in test_prep])\n",
    "\n",
    "# Processed \n",
    "average_score = (math + reading + writing) / 3\n",
    "intersect = np.ones(len(average_score))\n",
    "\n",
    "# Mapped Data Matrix\n",
    "mapped_data_matrix = np.column_stack((intersect, mapped_gender, \n",
    "                               mapped_race_ethnicity, \n",
    "                               mapped_parent_education, \n",
    "                               mapped_lunch, \n",
    "                               mapped_test_prep))\n",
    "\n",
    "G_map[data['gender']],\n",
    "        RE_map[data['race_ethnicity']],\n",
    "        PE_map[data['parent_education']],\n",
    "        L_map[data['lunch']],\n",
    "        TP_map[data['test_prep']]\n",
    "\n",
    "print(mapped_data_matrix)\n",
    "reg = LinearRegression().fit(mapped_data_matrix, average_score)\n",
    "converted1 = convert_to_numerical({'gender':'female', \n",
    "                                    'race_ethnicity':'group B', \n",
    "                                    'parent_education':'bachelor\\'s degree', \n",
    "                                    'lunch':'free/reduced', \n",
    "                                    'test_prep':'none'})\n",
    "print(converted1)\n",
    "print(reg.predict(np.array([converted1])))\n",
    "\n",
    "converted2 = convert_to_numerical({'gender':'male', \n",
    "                                    'race_ethnicity':'group A', \n",
    "                                    'parent_education':'associate\\'s degree', \n",
    "                                    'lunch':'free/reduced', \n",
    "                                    'test_prep':'none'})\n",
    "print(reg.predict(np.array([converted2])))\n"
   ]
  },
  {
   "cell_type": "markdown",
   "metadata": {},
   "source": [
    "#### Visualizing a 2-Dimensional Plot With Classes (Classification)"
   ]
  },
  {
   "cell_type": "code",
   "execution_count": 27,
   "metadata": {},
   "outputs": [
    {
     "data": {
      "image/png": "[encoded data removed]",
      "text/plain": [
       "<Figure size 432x288 with 1 Axes>"
      ]
     },
     "metadata": {
      "needs_background": "light"
     },
     "output_type": "display_data"
    }
   ],
   "source": [
    "GENDER_COL = 0\n",
    "RACE_COL = 1\n",
    "PARENTAL_EDU_COL = 2\n",
    "LUNCH_COL = 3\n",
    "TEST_PREP_COL = 4\n",
    "MATH_SCORE_COL = 5\n",
    "READING_SCORE_COL = 6\n",
    "WRITING_SCORE_COL = 7\n",
    "\n",
    "# math = np.array(raw_data[\"math score\"])\n",
    "# reading = np.array(raw_data[\"reading score\"])\n",
    "# simple_plot(math, reading)\n",
    "\n",
    "def class_plot(class_name, class1, class2, feature1, feature2):\n",
    "    plt.scatter(df2[feature1][(class_name == class1) | (class_name == class1)],\n",
    "            df2[feature2][(class_name == class1) | (class_name == class1)],\n",
    "           color='red',\n",
    "           label=class1.capitalize() + \" Scores\")\n",
    "    plt.scatter(df2[feature1][class_name == class2],\n",
    "            df2[feature2][class_name == class2],\n",
    "           color='blue',\n",
    "           label=class2.capitalize() + \" Scores\")\n",
    "\n",
    "    plt.title(\"Classification Plot based on \" + class_name.name.capitalize())\n",
    "    plt.xlabel(feature1.capitalize())\n",
    "    plt.ylabel(feature2.capitalize())\n",
    "    plt.legend()\n",
    "    \n",
    "class_plot(pre_processed_data.gender, 'male', 'female', 'writing score', 'reading score')\n",
    "\n"
   ]
  },
  {
   "cell_type": "code",
   "execution_count": null,
   "metadata": {},
   "outputs": [],
   "source": []
  }
 ],
 "metadata": {
  "kernelspec": {
   "display_name": "Python 3",
   "language": "python",
   "name": "python3"
  },
  "language_info": {
   "codemirror_mode": {
    "name": "ipython",
    "version": 3
   },
   "file_extension": ".py",
   "mimetype": "text/x-python",
   "name": "python",
   "nbconvert_exporter": "python",
   "pygments_lexer": "ipython3",
   "version": "3.8.8"
  }
 },
 "nbformat": 4,
 "nbformat_minor": 5
}